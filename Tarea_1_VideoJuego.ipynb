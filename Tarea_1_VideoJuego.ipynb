{
  "nbformat": 4,
  "nbformat_minor": 0,
  "metadata": {
    "colab": {
      "name": "Ejercicio_1_Casa.ipynb",
      "provenance": []
    },
    "kernelspec": {
      "name": "python3",
      "display_name": "Python 3"
    },
    "language_info": {
      "name": "python"
    }
  },
  "cells": [
    {
      "cell_type": "code",
      "execution_count": 1,
      "metadata": {
        "id": "LwANEYfH9y1B"
      },
      "outputs": [],
      "source": [
        "import pandas as pd ## llamar es el alias que llamamos  llamar. aca cargamos el m odulo dataframe\n",
        "import numpy as np  #aca cargamos el modulo numeros\n",
        "import matplotlib.pyplot as plt"
      ]
    },
    {
      "cell_type": "code",
      "source": [
        "from google.colab import files\n",
        "files.upload=files.upload()"
      ],
      "metadata": {
        "colab": {
          "resources": {
            "http://localhost:8080/nbextensions/google.colab/files.js": {
              "data": "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",
              "ok": true,
              "headers": [
                [
                  "content-type",
                  "application/javascript"
                ]
              ],
              "status": 200,
              "status_text": ""
            }
          },
          "base_uri": "https://localhost:8080/",
          "height": 74
        },
        "id": "1SKy6b-Q_6Pz",
        "outputId": "4719444c-9ca3-4d7e-cac5-0e027b78cb99"
      },
      "execution_count": 2,
      "outputs": [
        {
          "output_type": "display_data",
          "data": {
            "text/plain": [
              "<IPython.core.display.HTML object>"
            ],
            "text/html": [
              "\n",
              "     <input type=\"file\" id=\"files-867a64b0-5880-46c6-a217-92b59b65a5ae\" name=\"files[]\" multiple disabled\n",
              "        style=\"border:none\" />\n",
              "     <output id=\"result-867a64b0-5880-46c6-a217-92b59b65a5ae\">\n",
              "      Upload widget is only available when the cell has been executed in the\n",
              "      current browser session. Please rerun this cell to enable.\n",
              "      </output>\n",
              "      <script src=\"/nbextensions/google.colab/files.js\"></script> "
            ]
          },
          "metadata": {}
        },
        {
          "output_type": "stream",
          "name": "stdout",
          "text": [
            "Saving Datos Ejercicio 1_2.xlsx to Datos Ejercicio 1_2.xlsx\n"
          ]
        }
      ]
    },
    {
      "cell_type": "code",
      "source": [
        "Datos=pd.read_excel('Datos Ejercicio 1_2.xlsx',skiprows=0,names=[\"IDcompras\",\"Usuario\",\"Edad\",\"Genero\",\"ID\",\"NombreArticulo\",\"Precio\"])\n",
        "Datos"
      ],
      "metadata": {
        "id": "QekCN6KX-WQ6",
        "colab": {
          "base_uri": "https://localhost:8080/",
          "height": 423
        },
        "outputId": "e943e430-d5bb-414c-f869-3f96ab8a7ac3"
      },
      "execution_count": 3,
      "outputs": [
        {
          "output_type": "execute_result",
          "data": {
            "text/plain": [
              "     IDcompras        Usuario  Edad  Genero     ID  \\\n",
              "0            0        Lisim78  20.0    Male  108.0   \n",
              "1            1    Lisovynya38  40.0    Male  143.0   \n",
              "2            2     Ithergue48  24.0    Male   92.0   \n",
              "3            3  Chamassasya86  24.0    Male  100.0   \n",
              "4            4      Iskosia90  23.0    Male  131.0   \n",
              "..         ...            ...   ...     ...    ...   \n",
              "775        775     Aethedru70  21.0  Female   60.0   \n",
              "776        776         Iral74  21.0    Male  164.0   \n",
              "777        777     Yathecal72  20.0    Male   67.0   \n",
              "778        778        Sisur91   7.0    Male  101.0   \n",
              "779        779      Ennrian78  24.0    Male   50.0   \n",
              "\n",
              "                                NombreArticulo  Precio  \n",
              "0    Extraction, Quickblade Of Trembling Hands    3.53  \n",
              "1                            Frenzied Scimitar    1.56  \n",
              "2                                 Final Critic    4.88  \n",
              "3                                  Blindscythe    3.27  \n",
              "4                                         Fury    1.44  \n",
              "..                                         ...     ...  \n",
              "775                                       Wolf    3.54  \n",
              "776                           Exiled Doomblade    1.63  \n",
              "777      Celeste, Incarnation of the Corrupted    3.46  \n",
              "778                               Final Critic    4.19  \n",
              "779                                       Dawn    4.60  \n",
              "\n",
              "[780 rows x 7 columns]"
            ],
            "text/html": [
              "\n",
              "  <div id=\"df-c5cda0c6-91f6-4f3d-a7d5-5ac1d9e1d051\">\n",
              "    <div class=\"colab-df-container\">\n",
              "      <div>\n",
              "<style scoped>\n",
              "    .dataframe tbody tr th:only-of-type {\n",
              "        vertical-align: middle;\n",
              "    }\n",
              "\n",
              "    .dataframe tbody tr th {\n",
              "        vertical-align: top;\n",
              "    }\n",
              "\n",
              "    .dataframe thead th {\n",
              "        text-align: right;\n",
              "    }\n",
              "</style>\n",
              "<table border=\"1\" class=\"dataframe\">\n",
              "  <thead>\n",
              "    <tr style=\"text-align: right;\">\n",
              "      <th></th>\n",
              "      <th>IDcompras</th>\n",
              "      <th>Usuario</th>\n",
              "      <th>Edad</th>\n",
              "      <th>Genero</th>\n",
              "      <th>ID</th>\n",
              "      <th>NombreArticulo</th>\n",
              "      <th>Precio</th>\n",
              "    </tr>\n",
              "  </thead>\n",
              "  <tbody>\n",
              "    <tr>\n",
              "      <th>0</th>\n",
              "      <td>0</td>\n",
              "      <td>Lisim78</td>\n",
              "      <td>20.0</td>\n",
              "      <td>Male</td>\n",
              "      <td>108.0</td>\n",
              "      <td>Extraction, Quickblade Of Trembling Hands</td>\n",
              "      <td>3.53</td>\n",
              "    </tr>\n",
              "    <tr>\n",
              "      <th>1</th>\n",
              "      <td>1</td>\n",
              "      <td>Lisovynya38</td>\n",
              "      <td>40.0</td>\n",
              "      <td>Male</td>\n",
              "      <td>143.0</td>\n",
              "      <td>Frenzied Scimitar</td>\n",
              "      <td>1.56</td>\n",
              "    </tr>\n",
              "    <tr>\n",
              "      <th>2</th>\n",
              "      <td>2</td>\n",
              "      <td>Ithergue48</td>\n",
              "      <td>24.0</td>\n",
              "      <td>Male</td>\n",
              "      <td>92.0</td>\n",
              "      <td>Final Critic</td>\n",
              "      <td>4.88</td>\n",
              "    </tr>\n",
              "    <tr>\n",
              "      <th>3</th>\n",
              "      <td>3</td>\n",
              "      <td>Chamassasya86</td>\n",
              "      <td>24.0</td>\n",
              "      <td>Male</td>\n",
              "      <td>100.0</td>\n",
              "      <td>Blindscythe</td>\n",
              "      <td>3.27</td>\n",
              "    </tr>\n",
              "    <tr>\n",
              "      <th>4</th>\n",
              "      <td>4</td>\n",
              "      <td>Iskosia90</td>\n",
              "      <td>23.0</td>\n",
              "      <td>Male</td>\n",
              "      <td>131.0</td>\n",
              "      <td>Fury</td>\n",
              "      <td>1.44</td>\n",
              "    </tr>\n",
              "    <tr>\n",
              "      <th>...</th>\n",
              "      <td>...</td>\n",
              "      <td>...</td>\n",
              "      <td>...</td>\n",
              "      <td>...</td>\n",
              "      <td>...</td>\n",
              "      <td>...</td>\n",
              "      <td>...</td>\n",
              "    </tr>\n",
              "    <tr>\n",
              "      <th>775</th>\n",
              "      <td>775</td>\n",
              "      <td>Aethedru70</td>\n",
              "      <td>21.0</td>\n",
              "      <td>Female</td>\n",
              "      <td>60.0</td>\n",
              "      <td>Wolf</td>\n",
              "      <td>3.54</td>\n",
              "    </tr>\n",
              "    <tr>\n",
              "      <th>776</th>\n",
              "      <td>776</td>\n",
              "      <td>Iral74</td>\n",
              "      <td>21.0</td>\n",
              "      <td>Male</td>\n",
              "      <td>164.0</td>\n",
              "      <td>Exiled Doomblade</td>\n",
              "      <td>1.63</td>\n",
              "    </tr>\n",
              "    <tr>\n",
              "      <th>777</th>\n",
              "      <td>777</td>\n",
              "      <td>Yathecal72</td>\n",
              "      <td>20.0</td>\n",
              "      <td>Male</td>\n",
              "      <td>67.0</td>\n",
              "      <td>Celeste, Incarnation of the Corrupted</td>\n",
              "      <td>3.46</td>\n",
              "    </tr>\n",
              "    <tr>\n",
              "      <th>778</th>\n",
              "      <td>778</td>\n",
              "      <td>Sisur91</td>\n",
              "      <td>7.0</td>\n",
              "      <td>Male</td>\n",
              "      <td>101.0</td>\n",
              "      <td>Final Critic</td>\n",
              "      <td>4.19</td>\n",
              "    </tr>\n",
              "    <tr>\n",
              "      <th>779</th>\n",
              "      <td>779</td>\n",
              "      <td>Ennrian78</td>\n",
              "      <td>24.0</td>\n",
              "      <td>Male</td>\n",
              "      <td>50.0</td>\n",
              "      <td>Dawn</td>\n",
              "      <td>4.60</td>\n",
              "    </tr>\n",
              "  </tbody>\n",
              "</table>\n",
              "<p>780 rows × 7 columns</p>\n",
              "</div>\n",
              "      <button class=\"colab-df-convert\" onclick=\"convertToInteractive('df-c5cda0c6-91f6-4f3d-a7d5-5ac1d9e1d051')\"\n",
              "              title=\"Convert this dataframe to an interactive table.\"\n",
              "              style=\"display:none;\">\n",
              "        \n",
              "  <svg xmlns=\"http://www.w3.org/2000/svg\" height=\"24px\"viewBox=\"0 0 24 24\"\n",
              "       width=\"24px\">\n",
              "    <path d=\"M0 0h24v24H0V0z\" fill=\"none\"/>\n",
              "    <path d=\"M18.56 5.44l.94 2.06.94-2.06 2.06-.94-2.06-.94-.94-2.06-.94 2.06-2.06.94zm-11 1L8.5 8.5l.94-2.06 2.06-.94-2.06-.94L8.5 2.5l-.94 2.06-2.06.94zm10 10l.94 2.06.94-2.06 2.06-.94-2.06-.94-.94-2.06-.94 2.06-2.06.94z\"/><path d=\"M17.41 7.96l-1.37-1.37c-.4-.4-.92-.59-1.43-.59-.52 0-1.04.2-1.43.59L10.3 9.45l-7.72 7.72c-.78.78-.78 2.05 0 2.83L4 21.41c.39.39.9.59 1.41.59.51 0 1.02-.2 1.41-.59l7.78-7.78 2.81-2.81c.8-.78.8-2.07 0-2.86zM5.41 20L4 18.59l7.72-7.72 1.47 1.35L5.41 20z\"/>\n",
              "  </svg>\n",
              "      </button>\n",
              "      \n",
              "  <style>\n",
              "    .colab-df-container {\n",
              "      display:flex;\n",
              "      flex-wrap:wrap;\n",
              "      gap: 12px;\n",
              "    }\n",
              "\n",
              "    .colab-df-convert {\n",
              "      background-color: #E8F0FE;\n",
              "      border: none;\n",
              "      border-radius: 50%;\n",
              "      cursor: pointer;\n",
              "      display: none;\n",
              "      fill: #1967D2;\n",
              "      height: 32px;\n",
              "      padding: 0 0 0 0;\n",
              "      width: 32px;\n",
              "    }\n",
              "\n",
              "    .colab-df-convert:hover {\n",
              "      background-color: #E2EBFA;\n",
              "      box-shadow: 0px 1px 2px rgba(60, 64, 67, 0.3), 0px 1px 3px 1px rgba(60, 64, 67, 0.15);\n",
              "      fill: #174EA6;\n",
              "    }\n",
              "\n",
              "    [theme=dark] .colab-df-convert {\n",
              "      background-color: #3B4455;\n",
              "      fill: #D2E3FC;\n",
              "    }\n",
              "\n",
              "    [theme=dark] .colab-df-convert:hover {\n",
              "      background-color: #434B5C;\n",
              "      box-shadow: 0px 1px 3px 1px rgba(0, 0, 0, 0.15);\n",
              "      filter: drop-shadow(0px 1px 2px rgba(0, 0, 0, 0.3));\n",
              "      fill: #FFFFFF;\n",
              "    }\n",
              "  </style>\n",
              "\n",
              "      <script>\n",
              "        const buttonEl =\n",
              "          document.querySelector('#df-c5cda0c6-91f6-4f3d-a7d5-5ac1d9e1d051 button.colab-df-convert');\n",
              "        buttonEl.style.display =\n",
              "          google.colab.kernel.accessAllowed ? 'block' : 'none';\n",
              "\n",
              "        async function convertToInteractive(key) {\n",
              "          const element = document.querySelector('#df-c5cda0c6-91f6-4f3d-a7d5-5ac1d9e1d051');\n",
              "          const dataTable =\n",
              "            await google.colab.kernel.invokeFunction('convertToInteractive',\n",
              "                                                     [key], {});\n",
              "          if (!dataTable) return;\n",
              "\n",
              "          const docLinkHtml = 'Like what you see? Visit the ' +\n",
              "            '<a target=\"_blank\" href=https://colab.research.google.com/notebooks/data_table.ipynb>data table notebook</a>'\n",
              "            + ' to learn more about interactive tables.';\n",
              "          element.innerHTML = '';\n",
              "          dataTable['output_type'] = 'display_data';\n",
              "          await google.colab.output.renderOutput(dataTable, element);\n",
              "          const docLink = document.createElement('div');\n",
              "          docLink.innerHTML = docLinkHtml;\n",
              "          element.appendChild(docLink);\n",
              "        }\n",
              "      </script>\n",
              "    </div>\n",
              "  </div>\n",
              "  "
            ]
          },
          "metadata": {},
          "execution_count": 3
        }
      ]
    },
    {
      "cell_type": "code",
      "source": [
        "# 2.1 RECUENTO DE JUGADORES\n",
        "len(Datos[\"Usuario\"].unique()) #unique quita los duplicados  "
      ],
      "metadata": {
        "id": "niEATbdPAcMh",
        "colab": {
          "base_uri": "https://localhost:8080/"
        },
        "outputId": "5c2306bf-37f9-47a8-ba9c-876a860cfa8c"
      },
      "execution_count": 4,
      "outputs": [
        {
          "output_type": "execute_result",
          "data": {
            "text/plain": [
              "576"
            ]
          },
          "metadata": {},
          "execution_count": 4
        }
      ]
    },
    {
      "cell_type": "code",
      "source": [
        "# 2.1 ANALISIS DE COMPRA\n",
        "#2.1.1 NÚMERO DE ARTICULOS UNICOS\n",
        "len(Datos[\"ID\"].unique()) "
      ],
      "metadata": {
        "colab": {
          "base_uri": "https://localhost:8080/"
        },
        "id": "WFl3MWL2AdBS",
        "outputId": "6dd421ae-0954-492c-be68-21e16fbbc92e"
      },
      "execution_count": 5,
      "outputs": [
        {
          "output_type": "execute_result",
          "data": {
            "text/plain": [
              "183"
            ]
          },
          "metadata": {},
          "execution_count": 5
        }
      ]
    },
    {
      "cell_type": "code",
      "source": [
        "#2.1.2 PRECIO MEDIO DE COMPRAS\n",
        "np.mean(Datos[\"Precio\"])"
      ],
      "metadata": {
        "colab": {
          "base_uri": "https://localhost:8080/"
        },
        "id": "FzurL0Z-B7bD",
        "outputId": "8110edb8-9036-41e3-9e01-e24eabf9bd84"
      },
      "execution_count": 6,
      "outputs": [
        {
          "output_type": "execute_result",
          "data": {
            "text/plain": [
              "3.050987179487176"
            ]
          },
          "metadata": {},
          "execution_count": 6
        }
      ]
    },
    {
      "cell_type": "code",
      "source": [
        "#2.1.3 NUMERO TOTAL DE COMPRAS\n",
        "len(Datos)"
      ],
      "metadata": {
        "id": "DqAQJqorEC2S",
        "colab": {
          "base_uri": "https://localhost:8080/"
        },
        "outputId": "5b806ada-4336-4848-fe41-7ede9e0397f6"
      },
      "execution_count": 7,
      "outputs": [
        {
          "output_type": "execute_result",
          "data": {
            "text/plain": [
              "780"
            ]
          },
          "metadata": {},
          "execution_count": 7
        }
      ]
    },
    {
      "cell_type": "code",
      "source": [
        "#2.1.4 INGRESOS TOTALES\n",
        "Datos[\"Precio\"].sum()"
      ],
      "metadata": {
        "colab": {
          "base_uri": "https://localhost:8080/"
        },
        "id": "gR9jx9J_bhQ2",
        "outputId": "17e69d52-c665-4055-c529-1609aba5c3a5"
      },
      "execution_count": 8,
      "outputs": [
        {
          "output_type": "execute_result",
          "data": {
            "text/plain": [
              "2379.77"
            ]
          },
          "metadata": {},
          "execution_count": 8
        }
      ]
    },
    {
      "cell_type": "code",
      "source": [
        "#3 DATOS DEMOGRAFICOS POR GENERO\n",
        "#3.1 PORCENTAGE Y NÚMERO DE JUGADORES MASCULINOS\n",
        "COMPRAS_HOMBRE=Datos[Datos[\"Genero\"]==\"Male\"] ## DATAFAME SOLO HOMBRES\n",
        "H=len(COMPRAS_HOMBRE[\"Usuario\"].unique()) #TOTAL HOMBRES\n",
        "Porcentaje_H=(H/len(Datos[\"Usuario\"].unique()))*100\n",
        "round(Porcentaje_H,2)\n",
        "print('Existen',H,'compradores hombre lo que equivale a un',round(Porcentaje_H,2),'% del total de compradores')"
      ],
      "metadata": {
        "colab": {
          "base_uri": "https://localhost:8080/"
        },
        "id": "PKhLLQDLcBEt",
        "outputId": "f4ab8bd0-1360-4416-b426-9f6bdbce8974"
      },
      "execution_count": 9,
      "outputs": [
        {
          "output_type": "stream",
          "name": "stdout",
          "text": [
            "Existen 484 compradores hombre lo que equivale a un 84.03 % del total de compradores\n"
          ]
        }
      ]
    },
    {
      "cell_type": "code",
      "source": [
        "#3 DATOS DEMOGRAFICOS POR GENERO\n",
        "#3.2 PORCENTAGE Y NÚMERO DE JUGADORES FEMENINOS\n",
        "COMPRAS_MUJER=Datos[Datos[\"Genero\"]==\"Female\"] ## DATAFAME SOLO MUJERES\n",
        "M=len(COMPRAS_MUJER[\"Usuario\"].unique()) #TOTAL MUJER\n",
        "Porcentaje_M=(M/len(Datos[\"Usuario\"].unique()))*100\n",
        "round(Porcentaje_M,2)\n",
        "print('Existen',M,'compradores hmujeres lo que equivale a un',round(Porcentaje_M,2),'% del total de compradores')"
      ],
      "metadata": {
        "colab": {
          "base_uri": "https://localhost:8080/"
        },
        "id": "u302hDIScxCy",
        "outputId": "3e3df6b2-edd4-495d-b4fa-75e803f56fc9"
      },
      "execution_count": 10,
      "outputs": [
        {
          "output_type": "stream",
          "name": "stdout",
          "text": [
            "Existen 81 compradores hmujeres lo que equivale a un 14.06 % del total de compradores\n"
          ]
        }
      ]
    },
    {
      "cell_type": "code",
      "source": [
        "#3 DATOS DEMOGRAFICOS POR GENERO\n",
        "#3.3 PORCENTAGE Y NÚMERO DE JUGADORES OTROS\n",
        "COMPRAS_OTROS=Datos[Datos[\"Genero\"]==\"Other / Non-Disclosed\"] ## DATAFRAME SOLO OTROS\n",
        "O=len(COMPRAS_OTROS[\"Usuario\"].unique()) #TOTAL OTROS\n",
        "Porcentaje_O=(O/len(Datos[\"Usuario\"].unique()))*100\n",
        "round(Porcentaje_O,2)\n",
        "print('Existen',O,'compradores de otro genero lo que equivale a un',round(Porcentaje_O,2),'% del total de compradores')"
      ],
      "metadata": {
        "colab": {
          "base_uri": "https://localhost:8080/"
        },
        "id": "HCPpqydpecHV",
        "outputId": "6ae7bc2f-e75f-4f2e-f6b7-888ac9e7a44d"
      },
      "execution_count": 11,
      "outputs": [
        {
          "output_type": "stream",
          "name": "stdout",
          "text": [
            "Existen 11 compradores de otro genero lo que equivale a un 1.91 % del total de compradores\n"
          ]
        }
      ]
    },
    {
      "cell_type": "code",
      "source": [
        "#4 DATOS DEMOGRAFICOS POR GENERO\n",
        "Resumen=pd.DataFrame(np.unique(Datos[\"Genero\"],return_counts=True))  #MAS FACIL, TE GENERA UN RESUMEN EN UN DATAFRAME DE CUANTOS CMPRAS FEMENINAS, CUANTAS MASCULINAS Y DE OTROS\n",
        "Res=np.unique(Datos[\"Genero\"],return_counts=True) #ES LO MISMO QUE LO ANTERIOR PERO EN UN ARREGLO MATRICIAL\n",
        "plt.pie(Res[1],labels=Res[0])# LO PRIMERO RECOGE LOS DATOS DE LA FILA 2 Y LOS GRAFIA Y LO SEGUNDO ENTREGA NOMBRES DE CADA NIVEL QUE ESTÁN EN LA FILA 1\n",
        "plt.show()"
      ],
      "metadata": {
        "id": "5hOH9BYBf_tA",
        "colab": {
          "base_uri": "https://localhost:8080/",
          "height": 248
        },
        "outputId": "ba02c94d-c39e-491a-fccb-11efe9cc22fb"
      },
      "execution_count": 12,
      "outputs": [
        {
          "output_type": "display_data",
          "data": {
            "text/plain": [
              "<Figure size 432x288 with 1 Axes>"
            ],
            "image/png": "[encoded data removed]"
          },
          "metadata": {}
        }
      ]
    },
    {
      "cell_type": "code",
      "source": [
        "plt.hist(Datos[\"Genero\"])"
      ],
      "metadata": {
        "colab": {
          "base_uri": "https://localhost:8080/",
          "height": 320
        },
        "id": "OGZqdMWl67e8",
        "outputId": "f61f1f58-c949-4492-a83e-f99116744f50"
      },
      "execution_count": 13,
      "outputs": [
        {
          "output_type": "execute_result",
          "data": {
            "text/plain": [
              "(array([652.,   0.,   0.,   0.,   0.,  15.,   0.,   0.,   0., 113.]),\n",
              " array([0. , 0.2, 0.4, 0.6, 0.8, 1. , 1.2, 1.4, 1.6, 1.8, 2. ]),\n",
              " <a list of 10 Patch objects>)"
            ]
          },
          "metadata": {},
          "execution_count": 13
        },
        {
          "output_type": "display_data",
          "data": {
            "text/plain": [
              "<Figure size 432x288 with 1 Axes>"
            ],
            "image/png": "[encoded data removed]"
          },
          "metadata": {
            "needs_background": "light"
          }
        }
      ]
    },
    {
      "cell_type": "code",
      "source": [
        "# 4.1  RECUENTO DE COMPRAS\n",
        "len(COMPRAS_HOMBRE) ## TOTAL COMPRAS HECHAS POR HOMBRES\n",
        "len(COMPRAS_MUJER) ## TOTAL COMPRAS HECHAS POR MUJERE\n",
        "len(COMPRAS_OTROS) ## TOTAL COMPRAS HECHAS POR OTROS"
      ],
      "metadata": {
        "id": "6nh4JZlE-Gkq",
        "colab": {
          "base_uri": "https://localhost:8080/"
        },
        "outputId": "300714fc-077c-4a4d-ec52-de29ed3ed437"
      },
      "execution_count": 14,
      "outputs": [
        {
          "output_type": "execute_result",
          "data": {
            "text/plain": [
              "15"
            ]
          },
          "metadata": {},
          "execution_count": 14
        }
      ]
    },
    {
      "cell_type": "code",
      "source": [
        "# 4.2  PRECIO MEDIO DE COMPRAS\n",
        "COMPRAS_HOMBRE[\"Precio\"].mean() ##PRECIO MEDIO COMPRAS HOMBRES\n",
        "COMPRAS_MUJER[\"Precio\"].mean() ##PRECIO MEDIO COMPRAS MUJRES\n",
        "COMPRAS_OTROS[\"Precio\"].mean()##PRECIO MEDIO COMPRAS OTROS"
      ],
      "metadata": {
        "colab": {
          "base_uri": "https://localhost:8080/"
        },
        "id": "wYsnMjS0_7L7",
        "outputId": "e4ac0d74-37e6-48c1-b9c0-a8e2b4042b0e"
      },
      "execution_count": 15,
      "outputs": [
        {
          "output_type": "execute_result",
          "data": {
            "text/plain": [
              "3.3460000000000005"
            ]
          },
          "metadata": {},
          "execution_count": 15
        }
      ]
    },
    {
      "cell_type": "code",
      "source": [
        "# 4.3  VALOR TOTAL DE COMPRAS\n",
        "COMPRAS_HOMBRE[\"Precio\"].sum() ##PRECIO MEDIO COMPRAS HOMBRES\n",
        "COMPRAS_MUJER[\"Precio\"].sum() ##PRECIO MEDIO COMPRAS MUJRES\n",
        "COMPRAS_OTROS[\"Precio\"].sum()##PRECIO MEDIO COMPRAS OTROS"
      ],
      "metadata": {
        "colab": {
          "base_uri": "https://localhost:8080/"
        },
        "id": "ifKVxtygFwGS",
        "outputId": "6b8ac882-472c-486b-f38f-f2791696f6ef"
      },
      "execution_count": 16,
      "outputs": [
        {
          "output_type": "execute_result",
          "data": {
            "text/plain": [
              "50.19"
            ]
          },
          "metadata": {},
          "execution_count": 16
        }
      ]
    },
    {
      "cell_type": "code",
      "source": [
        "#4.4 TOTAL MEDIO DE COMPRAS POR PERSONA/GENERO\n",
        "PP=COMPRAS_HOMBRE.groupby([\"Usuario\", \"Edad\"])[\"Precio\"].mean() #PROMEDIO POR PERSONA HOMBRE\n",
        "PP.mean() ##POR PERSONA/GENERO MASCULINO\n",
        "PM=COMPRAS_MUJER.groupby([\"Usuario\", \"Edad\"])[\"Precio\"].mean() #PROMEDIO POR PERSONA MUJER\n",
        "PM.mean() ##POR PERSONA/GENERO FEMENINO\n",
        "POT=COMPRAS_OTROS.groupby([\"Usuario\", \"Edad\"])[\"Precio\"].mean() #PROMEDIO POR PERSONA OTROS\n",
        "POT.mean() ##POR PERSONA/GENERO OTROS\n",
        "TABLA1 = {\"Genero\": [\"Hombres\",\"Mujeres\",\"Otros\"],\n",
        "          \"Precio Medio/Persona\":[round(PP.mean(),2),round(PM.mean(),2),round(POT.mean(),2)]}\n",
        "df = pd.DataFrame(TABLA1,\n",
        "columns=[\"Genero\",\"Precio Medio/Persona\"])\n",
        "df"
      ],
      "metadata": {
        "colab": {
          "base_uri": "https://localhost:8080/",
          "height": 143
        },
        "id": "b2zhITF6GEjY",
        "outputId": "cd83b60f-600d-40f4-b7fc-784d7ffd30ea"
      },
      "execution_count": 17,
      "outputs": [
        {
          "output_type": "execute_result",
          "data": {
            "text/plain": [
              "    Genero  Precio Medio/Persona\n",
              "0  Hombres                  3.01\n",
              "1  Mujeres                  3.19\n",
              "2    Otros                  3.35"
            ],
            "text/html": [
              "\n",
              "  <div id=\"df-b57a5a49-a2ac-47de-840b-93826060b08f\">\n",
              "    <div class=\"colab-df-container\">\n",
              "      <div>\n",
              "<style scoped>\n",
              "    .dataframe tbody tr th:only-of-type {\n",
              "        vertical-align: middle;\n",
              "    }\n",
              "\n",
              "    .dataframe tbody tr th {\n",
              "        vertical-align: top;\n",
              "    }\n",
              "\n",
              "    .dataframe thead th {\n",
              "        text-align: right;\n",
              "    }\n",
              "</style>\n",
              "<table border=\"1\" class=\"dataframe\">\n",
              "  <thead>\n",
              "    <tr style=\"text-align: right;\">\n",
              "      <th></th>\n",
              "      <th>Genero</th>\n",
              "      <th>Precio Medio/Persona</th>\n",
              "    </tr>\n",
              "  </thead>\n",
              "  <tbody>\n",
              "    <tr>\n",
              "      <th>0</th>\n",
              "      <td>Hombres</td>\n",
              "      <td>3.01</td>\n",
              "    </tr>\n",
              "    <tr>\n",
              "      <th>1</th>\n",
              "      <td>Mujeres</td>\n",
              "      <td>3.19</td>\n",
              "    </tr>\n",
              "    <tr>\n",
              "      <th>2</th>\n",
              "      <td>Otros</td>\n",
              "      <td>3.35</td>\n",
              "    </tr>\n",
              "  </tbody>\n",
              "</table>\n",
              "</div>\n",
              "      <button class=\"colab-df-convert\" onclick=\"convertToInteractive('df-b57a5a49-a2ac-47de-840b-93826060b08f')\"\n",
              "              title=\"Convert this dataframe to an interactive table.\"\n",
              "              style=\"display:none;\">\n",
              "        \n",
              "  <svg xmlns=\"http://www.w3.org/2000/svg\" height=\"24px\"viewBox=\"0 0 24 24\"\n",
              "       width=\"24px\">\n",
              "    <path d=\"M0 0h24v24H0V0z\" fill=\"none\"/>\n",
              "    <path d=\"M18.56 5.44l.94 2.06.94-2.06 2.06-.94-2.06-.94-.94-2.06-.94 2.06-2.06.94zm-11 1L8.5 8.5l.94-2.06 2.06-.94-2.06-.94L8.5 2.5l-.94 2.06-2.06.94zm10 10l.94 2.06.94-2.06 2.06-.94-2.06-.94-.94-2.06-.94 2.06-2.06.94z\"/><path d=\"M17.41 7.96l-1.37-1.37c-.4-.4-.92-.59-1.43-.59-.52 0-1.04.2-1.43.59L10.3 9.45l-7.72 7.72c-.78.78-.78 2.05 0 2.83L4 21.41c.39.39.9.59 1.41.59.51 0 1.02-.2 1.41-.59l7.78-7.78 2.81-2.81c.8-.78.8-2.07 0-2.86zM5.41 20L4 18.59l7.72-7.72 1.47 1.35L5.41 20z\"/>\n",
              "  </svg>\n",
              "      </button>\n",
              "      \n",
              "  <style>\n",
              "    .colab-df-container {\n",
              "      display:flex;\n",
              "      flex-wrap:wrap;\n",
              "      gap: 12px;\n",
              "    }\n",
              "\n",
              "    .colab-df-convert {\n",
              "      background-color: #E8F0FE;\n",
              "      border: none;\n",
              "      border-radius: 50%;\n",
              "      cursor: pointer;\n",
              "      display: none;\n",
              "      fill: #1967D2;\n",
              "      height: 32px;\n",
              "      padding: 0 0 0 0;\n",
              "      width: 32px;\n",
              "    }\n",
              "\n",
              "    .colab-df-convert:hover {\n",
              "      background-color: #E2EBFA;\n",
              "      box-shadow: 0px 1px 2px rgba(60, 64, 67, 0.3), 0px 1px 3px 1px rgba(60, 64, 67, 0.15);\n",
              "      fill: #174EA6;\n",
              "    }\n",
              "\n",
              "    [theme=dark] .colab-df-convert {\n",
              "      background-color: #3B4455;\n",
              "      fill: #D2E3FC;\n",
              "    }\n",
              "\n",
              "    [theme=dark] .colab-df-convert:hover {\n",
              "      background-color: #434B5C;\n",
              "      box-shadow: 0px 1px 3px 1px rgba(0, 0, 0, 0.15);\n",
              "      filter: drop-shadow(0px 1px 2px rgba(0, 0, 0, 0.3));\n",
              "      fill: #FFFFFF;\n",
              "    }\n",
              "  </style>\n",
              "\n",
              "      <script>\n",
              "        const buttonEl =\n",
              "          document.querySelector('#df-b57a5a49-a2ac-47de-840b-93826060b08f button.colab-df-convert');\n",
              "        buttonEl.style.display =\n",
              "          google.colab.kernel.accessAllowed ? 'block' : 'none';\n",
              "\n",
              "        async function convertToInteractive(key) {\n",
              "          const element = document.querySelector('#df-b57a5a49-a2ac-47de-840b-93826060b08f');\n",
              "          const dataTable =\n",
              "            await google.colab.kernel.invokeFunction('convertToInteractive',\n",
              "                                                     [key], {});\n",
              "          if (!dataTable) return;\n",
              "\n",
              "          const docLinkHtml = 'Like what you see? Visit the ' +\n",
              "            '<a target=\"_blank\" href=https://colab.research.google.com/notebooks/data_table.ipynb>data table notebook</a>'\n",
              "            + ' to learn more about interactive tables.';\n",
              "          element.innerHTML = '';\n",
              "          dataTable['output_type'] = 'display_data';\n",
              "          await google.colab.output.renderOutput(dataTable, element);\n",
              "          const docLink = document.createElement('div');\n",
              "          docLink.innerHTML = docLinkHtml;\n",
              "          element.appendChild(docLink);\n",
              "        }\n",
              "      </script>\n",
              "    </div>\n",
              "  </div>\n",
              "  "
            ]
          },
          "metadata": {},
          "execution_count": 17
        }
      ]
    },
    {
      "cell_type": "code",
      "source": [
        "#5.1 RECUENTO DE COMPRA POR RANGO DE EDAD\n",
        "R1=len(Datos[Datos[\"Edad\"]<10])## RECUENTO MENORES DE 10  AÑOS\n",
        "R2=len(Datos[(Datos[\"Edad\"]>=10)&(Datos[\"Edad\"]<=14)]) ## RECUENTO RANGO DE EDAD ENTRE 10 Y 14 AÑOS\n",
        "R3=len(Datos[(Datos[\"Edad\"]>=15)&(Datos[\"Edad\"]<=19)]) \n",
        "R4=len(Datos[(Datos[\"Edad\"]>=20)&(Datos[\"Edad\"]<=24)])\n",
        "R5=len(Datos[(Datos[\"Edad\"]>=25)&(Datos[\"Edad\"]<=29)])\n",
        "R6=len(Datos[(Datos[\"Edad\"]>=30)&(Datos[\"Edad\"]<=34)])\n",
        "R7=len(Datos[(Datos[\"Edad\"]>=35)&(Datos[\"Edad\"]<=39)])\n",
        "R8=len(Datos[Datos[\"Edad\"]>=40])"
      ],
      "metadata": {
        "id": "LEctk6nf17yL"
      },
      "execution_count": 36,
      "outputs": []
    },
    {
      "cell_type": "code",
      "source": [
        "#5.2 PROMEDIO DE COMPRA POR RANGO DE EDAD\n",
        "PR1=(Datos[Datos[\"Edad\"]<10])[\"Precio\"].mean()## PROMEDIO MENORES DE 10  AÑOS\n",
        "PR2=(Datos[(Datos[\"Edad\"]>=10)&(Datos[\"Edad\"]<=14)])[\"Precio\"].mean() ## PROMEDIO RANGO DE EDAD ENTRE 10 Y 14 AÑOS\n",
        "PR3=(Datos[(Datos[\"Edad\"]>=15)&(Datos[\"Edad\"]<=19)])[\"Precio\"].mean() \n",
        "PR4=(Datos[(Datos[\"Edad\"]>=20)&(Datos[\"Edad\"]<=24)])[\"Precio\"].mean() \n",
        "PR5=(Datos[(Datos[\"Edad\"]>=25)&(Datos[\"Edad\"]<=29)])[\"Precio\"].mean() \n",
        "PR6=(Datos[(Datos[\"Edad\"]>=30)&(Datos[\"Edad\"]<=34)])[\"Precio\"].mean() \n",
        "PR7=(Datos[(Datos[\"Edad\"]>=35)&(Datos[\"Edad\"]<=39)])[\"Precio\"].mean() \n",
        "PR8=(Datos[Datos[\"Edad\"]>=40])[\"Precio\"].mean()"
      ],
      "metadata": {
        "id": "HLqFpSGiJxF_"
      },
      "execution_count": 41,
      "outputs": []
    },
    {
      "cell_type": "code",
      "source": [
        "#5.3 PROMEDIO DE COMPRA POR RANGO DE EDAD\n",
        "VT1=(Datos[Datos[\"Edad\"]<10])[\"Precio\"].sum()## PROMEDIO MENORES DE 10  AÑOS\n",
        "VT2=(Datos[(Datos[\"Edad\"]>=10)&(Datos[\"Edad\"]<=14)])[\"Precio\"].sum() ## PROMEDIO RANGO DE EDAD ENTRE 10 Y 14 AÑOS\n",
        "VT3=(Datos[(Datos[\"Edad\"]>=15)&(Datos[\"Edad\"]<=19)])[\"Precio\"].sum() \n",
        "VT4=(Datos[(Datos[\"Edad\"]>=20)&(Datos[\"Edad\"]<=24)])[\"Precio\"].sum() \n",
        "VT5=(Datos[(Datos[\"Edad\"]>=25)&(Datos[\"Edad\"]<=29)])[\"Precio\"].sum() \n",
        "VT6=(Datos[(Datos[\"Edad\"]>=30)&(Datos[\"Edad\"]<=34)])[\"Precio\"].sum() \n",
        "VT7=(Datos[(Datos[\"Edad\"]>=35)&(Datos[\"Edad\"]<=39)])[\"Precio\"].sum() \n",
        "VT8=(Datos[Datos[\"Edad\"]>=40])[\"Precio\"].sum()\n",
        "TABLA2 = {\"Rango de Edad\": [\"Menor de 10 Años\",\"De 10 a 14 Años\",\"De 15 a 19 Años\",\"De 20 a 24 Años\", \"De 25 a 29 Años\",\"De 30 a 34 Años\",\"De 35 a 39 Años\",\"Mayores de 40 años\"],\n",
        "          \"Total Compras realizadas\":[R1,R2,R3,R4,R5,R6,R7,R8],\n",
        "          \"Precio Medio\":[round(PR1,2),round(PR2,2),round(PR3,2),round(PR4,2),round(PR5,2),round(PR6,2),round(PR7,2),round(PR8,2)],\n",
        "          \"Valor de Compras\":[round(VT1,2),round(VT2,2),round(VT3,2),round(VT4,2),round(VT5,2),round(VT6,2),round(VT7,2),round(VT8,2)]}\n",
        "df2 = pd.DataFrame(TABLA2,\n",
        "columns=[\"Rango de Edad\",\"Total Compras realizadas\",\"Precio Medio\",\"Valor de Compras\"])\n",
        "df2\n"
      ],
      "metadata": {
        "colab": {
          "base_uri": "https://localhost:8080/",
          "height": 300
        },
        "id": "nr-uMShm_YZv",
        "outputId": "3bc5d7e8-6773-4da6-81ad-22dcba71f0d6"
      },
      "execution_count": 42,
      "outputs": [
        {
          "output_type": "execute_result",
          "data": {
            "text/plain": [
              "        Rango de Edad  Total Compras realizadas  Precio Medio  \\\n",
              "0    Menor de 10 Años                        23          3.35   \n",
              "1     De 10 a 14 Años                        28          2.96   \n",
              "2     De 15 a 19 Años                       136          3.04   \n",
              "3     De 20 a 24 Años                       365          3.05   \n",
              "4     De 25 a 29 Años                       101          2.90   \n",
              "5     De 30 a 34 Años                        73          2.93   \n",
              "6     De 35 a 39 Años                        41          3.60   \n",
              "7  Mayores de 40 años                        13          2.94   \n",
              "\n",
              "   Valor de Compras  \n",
              "0             77.13  \n",
              "1             82.78  \n",
              "2            412.89  \n",
              "3           1114.06  \n",
              "4            293.00  \n",
              "5            214.00  \n",
              "6            147.67  \n",
              "7             38.24  "
            ],
            "text/html": [
              "\n",
              "  <div id=\"df-1bdbd5bb-926a-427b-817a-0bda1c26292a\">\n",
              "    <div class=\"colab-df-container\">\n",
              "      <div>\n",
              "<style scoped>\n",
              "    .dataframe tbody tr th:only-of-type {\n",
              "        vertical-align: middle;\n",
              "    }\n",
              "\n",
              "    .dataframe tbody tr th {\n",
              "        vertical-align: top;\n",
              "    }\n",
              "\n",
              "    .dataframe thead th {\n",
              "        text-align: right;\n",
              "    }\n",
              "</style>\n",
              "<table border=\"1\" class=\"dataframe\">\n",
              "  <thead>\n",
              "    <tr style=\"text-align: right;\">\n",
              "      <th></th>\n",
              "      <th>Rango de Edad</th>\n",
              "      <th>Total Compras realizadas</th>\n",
              "      <th>Precio Medio</th>\n",
              "      <th>Valor de Compras</th>\n",
              "    </tr>\n",
              "  </thead>\n",
              "  <tbody>\n",
              "    <tr>\n",
              "      <th>0</th>\n",
              "      <td>Menor de 10 Años</td>\n",
              "      <td>23</td>\n",
              "      <td>3.35</td>\n",
              "      <td>77.13</td>\n",
              "    </tr>\n",
              "    <tr>\n",
              "      <th>1</th>\n",
              "      <td>De 10 a 14 Años</td>\n",
              "      <td>28</td>\n",
              "      <td>2.96</td>\n",
              "      <td>82.78</td>\n",
              "    </tr>\n",
              "    <tr>\n",
              "      <th>2</th>\n",
              "      <td>De 15 a 19 Años</td>\n",
              "      <td>136</td>\n",
              "      <td>3.04</td>\n",
              "      <td>412.89</td>\n",
              "    </tr>\n",
              "    <tr>\n",
              "      <th>3</th>\n",
              "      <td>De 20 a 24 Años</td>\n",
              "      <td>365</td>\n",
              "      <td>3.05</td>\n",
              "      <td>1114.06</td>\n",
              "    </tr>\n",
              "    <tr>\n",
              "      <th>4</th>\n",
              "      <td>De 25 a 29 Años</td>\n",
              "      <td>101</td>\n",
              "      <td>2.90</td>\n",
              "      <td>293.00</td>\n",
              "    </tr>\n",
              "    <tr>\n",
              "      <th>5</th>\n",
              "      <td>De 30 a 34 Años</td>\n",
              "      <td>73</td>\n",
              "      <td>2.93</td>\n",
              "      <td>214.00</td>\n",
              "    </tr>\n",
              "    <tr>\n",
              "      <th>6</th>\n",
              "      <td>De 35 a 39 Años</td>\n",
              "      <td>41</td>\n",
              "      <td>3.60</td>\n",
              "      <td>147.67</td>\n",
              "    </tr>\n",
              "    <tr>\n",
              "      <th>7</th>\n",
              "      <td>Mayores de 40 años</td>\n",
              "      <td>13</td>\n",
              "      <td>2.94</td>\n",
              "      <td>38.24</td>\n",
              "    </tr>\n",
              "  </tbody>\n",
              "</table>\n",
              "</div>\n",
              "      <button class=\"colab-df-convert\" onclick=\"convertToInteractive('df-1bdbd5bb-926a-427b-817a-0bda1c26292a')\"\n",
              "              title=\"Convert this dataframe to an interactive table.\"\n",
              "              style=\"display:none;\">\n",
              "        \n",
              "  <svg xmlns=\"http://www.w3.org/2000/svg\" height=\"24px\"viewBox=\"0 0 24 24\"\n",
              "       width=\"24px\">\n",
              "    <path d=\"M0 0h24v24H0V0z\" fill=\"none\"/>\n",
              "    <path d=\"M18.56 5.44l.94 2.06.94-2.06 2.06-.94-2.06-.94-.94-2.06-.94 2.06-2.06.94zm-11 1L8.5 8.5l.94-2.06 2.06-.94-2.06-.94L8.5 2.5l-.94 2.06-2.06.94zm10 10l.94 2.06.94-2.06 2.06-.94-2.06-.94-.94-2.06-.94 2.06-2.06.94z\"/><path d=\"M17.41 7.96l-1.37-1.37c-.4-.4-.92-.59-1.43-.59-.52 0-1.04.2-1.43.59L10.3 9.45l-7.72 7.72c-.78.78-.78 2.05 0 2.83L4 21.41c.39.39.9.59 1.41.59.51 0 1.02-.2 1.41-.59l7.78-7.78 2.81-2.81c.8-.78.8-2.07 0-2.86zM5.41 20L4 18.59l7.72-7.72 1.47 1.35L5.41 20z\"/>\n",
              "  </svg>\n",
              "      </button>\n",
              "      \n",
              "  <style>\n",
              "    .colab-df-container {\n",
              "      display:flex;\n",
              "      flex-wrap:wrap;\n",
              "      gap: 12px;\n",
              "    }\n",
              "\n",
              "    .colab-df-convert {\n",
              "      background-color: #E8F0FE;\n",
              "      border: none;\n",
              "      border-radius: 50%;\n",
              "      cursor: pointer;\n",
              "      display: none;\n",
              "      fill: #1967D2;\n",
              "      height: 32px;\n",
              "      padding: 0 0 0 0;\n",
              "      width: 32px;\n",
              "    }\n",
              "\n",
              "    .colab-df-convert:hover {\n",
              "      background-color: #E2EBFA;\n",
              "      box-shadow: 0px 1px 2px rgba(60, 64, 67, 0.3), 0px 1px 3px 1px rgba(60, 64, 67, 0.15);\n",
              "      fill: #174EA6;\n",
              "    }\n",
              "\n",
              "    [theme=dark] .colab-df-convert {\n",
              "      background-color: #3B4455;\n",
              "      fill: #D2E3FC;\n",
              "    }\n",
              "\n",
              "    [theme=dark] .colab-df-convert:hover {\n",
              "      background-color: #434B5C;\n",
              "      box-shadow: 0px 1px 3px 1px rgba(0, 0, 0, 0.15);\n",
              "      filter: drop-shadow(0px 1px 2px rgba(0, 0, 0, 0.3));\n",
              "      fill: #FFFFFF;\n",
              "    }\n",
              "  </style>\n",
              "\n",
              "      <script>\n",
              "        const buttonEl =\n",
              "          document.querySelector('#df-1bdbd5bb-926a-427b-817a-0bda1c26292a button.colab-df-convert');\n",
              "        buttonEl.style.display =\n",
              "          google.colab.kernel.accessAllowed ? 'block' : 'none';\n",
              "\n",
              "        async function convertToInteractive(key) {\n",
              "          const element = document.querySelector('#df-1bdbd5bb-926a-427b-817a-0bda1c26292a');\n",
              "          const dataTable =\n",
              "            await google.colab.kernel.invokeFunction('convertToInteractive',\n",
              "                                                     [key], {});\n",
              "          if (!dataTable) return;\n",
              "\n",
              "          const docLinkHtml = 'Like what you see? Visit the ' +\n",
              "            '<a target=\"_blank\" href=https://colab.research.google.com/notebooks/data_table.ipynb>data table notebook</a>'\n",
              "            + ' to learn more about interactive tables.';\n",
              "          element.innerHTML = '';\n",
              "          dataTable['output_type'] = 'display_data';\n",
              "          await google.colab.output.renderOutput(dataTable, element);\n",
              "          const docLink = document.createElement('div');\n",
              "          docLink.innerHTML = docLinkHtml;\n",
              "          element.appendChild(docLink);\n",
              "        }\n",
              "      </script>\n",
              "    </div>\n",
              "  </div>\n",
              "  "
            ]
          },
          "metadata": {},
          "execution_count": 42
        }
      ]
    },
    {
      "cell_type": "code",
      "source": [
        "#5.4 TOTAL MEDIO DE COMPRAS POR PERSONA/RANGO DE EDAD\n",
        "PP1=(Datos[Datos[\"Edad\"]<10]).groupby([\"Usuario\",])[\"Precio\"].mean() #PROMEDIO POR PERSONA MENORES DE 10\n",
        "PP2=(Datos[(Datos[\"Edad\"]>=10)&(Datos[\"Edad\"]<=14)]).groupby([\"Usuario\",])[\"Precio\"].mean() \n",
        "PP3=(Datos[(Datos[\"Edad\"]>=15)&(Datos[\"Edad\"]<=19)]).groupby([\"Usuario\",])[\"Precio\"].mean() \n",
        "PP4=(Datos[(Datos[\"Edad\"]>=20)&(Datos[\"Edad\"]<=24)]).groupby([\"Usuario\",])[\"Precio\"].mean() \n",
        "PP5=(Datos[(Datos[\"Edad\"]>=25)&(Datos[\"Edad\"]<=29)]).groupby([\"Usuario\",])[\"Precio\"].mean() \n",
        "PP6=(Datos[(Datos[\"Edad\"]>=30)&(Datos[\"Edad\"]<=34)]).groupby([\"Usuario\",])[\"Precio\"].mean() \n",
        "PP7=(Datos[(Datos[\"Edad\"]>=35)&(Datos[\"Edad\"]<=39)]).groupby([\"Usuario\",])[\"Precio\"].mean() \n",
        "PP8=(Datos[Datos[\"Edad\"]>=40]).groupby([\"Usuario\",])[\"Precio\"].mean() \n",
        "TABLA3 = {\"Rango de Edad\": [\"Menor de 10 Años\",\"De 10 a 14 Años\",\"De 15 a 19 Años\",\"De 20 a 24 Años\", \"De 25 a 29 Años\",\"De 30 a 34 Años\",\"De 35 a 39 Años\",\"Mayores de 40 años\"],\n",
        "          \"Promedio de Compras Totales/Persona\":[round(PP1.mean(),2),round(PP2.mean(),2),round(PP3.mean(),2),round(PP4.mean(),2),round(PP5.mean(),2),round(PP6.mean(),2),round(PP7.mean(),2),round(PP8.mean(),2)]}\n",
        "df3 = pd.DataFrame(TABLA3,\n",
        "columns=[\"Rango de Edad\",\"Promedio de Compras Totales/Persona\"])\n",
        "df3"
      ],
      "metadata": {
        "colab": {
          "base_uri": "https://localhost:8080/",
          "height": 300
        },
        "id": "GmLi8SbyBaLy",
        "outputId": "414b5837-3ec5-4318-b426-73c6977c5afe"
      },
      "execution_count": 50,
      "outputs": [
        {
          "output_type": "execute_result",
          "data": {
            "text/plain": [
              "        Rango de Edad  Promedio de Compras Totales/Persona\n",
              "0    Menor de 10 Años                                 3.49\n",
              "1     De 10 a 14 Años                                 3.04\n",
              "2     De 15 a 19 Años                                 3.07\n",
              "3     De 20 a 24 Años                                 3.03\n",
              "4     De 25 a 29 Años                                 2.83\n",
              "5     De 30 a 34 Años                                 2.94\n",
              "6     De 35 a 39 Años                                 3.56\n",
              "7  Mayores de 40 años                                 2.97"
            ],
            "text/html": [
              "\n",
              "  <div id=\"df-3a4c56b1-1278-444c-9d15-b36c50b7aed1\">\n",
              "    <div class=\"colab-df-container\">\n",
              "      <div>\n",
              "<style scoped>\n",
              "    .dataframe tbody tr th:only-of-type {\n",
              "        vertical-align: middle;\n",
              "    }\n",
              "\n",
              "    .dataframe tbody tr th {\n",
              "        vertical-align: top;\n",
              "    }\n",
              "\n",
              "    .dataframe thead th {\n",
              "        text-align: right;\n",
              "    }\n",
              "</style>\n",
              "<table border=\"1\" class=\"dataframe\">\n",
              "  <thead>\n",
              "    <tr style=\"text-align: right;\">\n",
              "      <th></th>\n",
              "      <th>Rango de Edad</th>\n",
              "      <th>Promedio de Compras Totales/Persona</th>\n",
              "    </tr>\n",
              "  </thead>\n",
              "  <tbody>\n",
              "    <tr>\n",
              "      <th>0</th>\n",
              "      <td>Menor de 10 Años</td>\n",
              "      <td>3.49</td>\n",
              "    </tr>\n",
              "    <tr>\n",
              "      <th>1</th>\n",
              "      <td>De 10 a 14 Años</td>\n",
              "      <td>3.04</td>\n",
              "    </tr>\n",
              "    <tr>\n",
              "      <th>2</th>\n",
              "      <td>De 15 a 19 Años</td>\n",
              "      <td>3.07</td>\n",
              "    </tr>\n",
              "    <tr>\n",
              "      <th>3</th>\n",
              "      <td>De 20 a 24 Años</td>\n",
              "      <td>3.03</td>\n",
              "    </tr>\n",
              "    <tr>\n",
              "      <th>4</th>\n",
              "      <td>De 25 a 29 Años</td>\n",
              "      <td>2.83</td>\n",
              "    </tr>\n",
              "    <tr>\n",
              "      <th>5</th>\n",
              "      <td>De 30 a 34 Años</td>\n",
              "      <td>2.94</td>\n",
              "    </tr>\n",
              "    <tr>\n",
              "      <th>6</th>\n",
              "      <td>De 35 a 39 Años</td>\n",
              "      <td>3.56</td>\n",
              "    </tr>\n",
              "    <tr>\n",
              "      <th>7</th>\n",
              "      <td>Mayores de 40 años</td>\n",
              "      <td>2.97</td>\n",
              "    </tr>\n",
              "  </tbody>\n",
              "</table>\n",
              "</div>\n",
              "      <button class=\"colab-df-convert\" onclick=\"convertToInteractive('df-3a4c56b1-1278-444c-9d15-b36c50b7aed1')\"\n",
              "              title=\"Convert this dataframe to an interactive table.\"\n",
              "              style=\"display:none;\">\n",
              "        \n",
              "  <svg xmlns=\"http://www.w3.org/2000/svg\" height=\"24px\"viewBox=\"0 0 24 24\"\n",
              "       width=\"24px\">\n",
              "    <path d=\"M0 0h24v24H0V0z\" fill=\"none\"/>\n",
              "    <path d=\"M18.56 5.44l.94 2.06.94-2.06 2.06-.94-2.06-.94-.94-2.06-.94 2.06-2.06.94zm-11 1L8.5 8.5l.94-2.06 2.06-.94-2.06-.94L8.5 2.5l-.94 2.06-2.06.94zm10 10l.94 2.06.94-2.06 2.06-.94-2.06-.94-.94-2.06-.94 2.06-2.06.94z\"/><path d=\"M17.41 7.96l-1.37-1.37c-.4-.4-.92-.59-1.43-.59-.52 0-1.04.2-1.43.59L10.3 9.45l-7.72 7.72c-.78.78-.78 2.05 0 2.83L4 21.41c.39.39.9.59 1.41.59.51 0 1.02-.2 1.41-.59l7.78-7.78 2.81-2.81c.8-.78.8-2.07 0-2.86zM5.41 20L4 18.59l7.72-7.72 1.47 1.35L5.41 20z\"/>\n",
              "  </svg>\n",
              "      </button>\n",
              "      \n",
              "  <style>\n",
              "    .colab-df-container {\n",
              "      display:flex;\n",
              "      flex-wrap:wrap;\n",
              "      gap: 12px;\n",
              "    }\n",
              "\n",
              "    .colab-df-convert {\n",
              "      background-color: #E8F0FE;\n",
              "      border: none;\n",
              "      border-radius: 50%;\n",
              "      cursor: pointer;\n",
              "      display: none;\n",
              "      fill: #1967D2;\n",
              "      height: 32px;\n",
              "      padding: 0 0 0 0;\n",
              "      width: 32px;\n",
              "    }\n",
              "\n",
              "    .colab-df-convert:hover {\n",
              "      background-color: #E2EBFA;\n",
              "      box-shadow: 0px 1px 2px rgba(60, 64, 67, 0.3), 0px 1px 3px 1px rgba(60, 64, 67, 0.15);\n",
              "      fill: #174EA6;\n",
              "    }\n",
              "\n",
              "    [theme=dark] .colab-df-convert {\n",
              "      background-color: #3B4455;\n",
              "      fill: #D2E3FC;\n",
              "    }\n",
              "\n",
              "    [theme=dark] .colab-df-convert:hover {\n",
              "      background-color: #434B5C;\n",
              "      box-shadow: 0px 1px 3px 1px rgba(0, 0, 0, 0.15);\n",
              "      filter: drop-shadow(0px 1px 2px rgba(0, 0, 0, 0.3));\n",
              "      fill: #FFFFFF;\n",
              "    }\n",
              "  </style>\n",
              "\n",
              "      <script>\n",
              "        const buttonEl =\n",
              "          document.querySelector('#df-3a4c56b1-1278-444c-9d15-b36c50b7aed1 button.colab-df-convert');\n",
              "        buttonEl.style.display =\n",
              "          google.colab.kernel.accessAllowed ? 'block' : 'none';\n",
              "\n",
              "        async function convertToInteractive(key) {\n",
              "          const element = document.querySelector('#df-3a4c56b1-1278-444c-9d15-b36c50b7aed1');\n",
              "          const dataTable =\n",
              "            await google.colab.kernel.invokeFunction('convertToInteractive',\n",
              "                                                     [key], {});\n",
              "          if (!dataTable) return;\n",
              "\n",
              "          const docLinkHtml = 'Like what you see? Visit the ' +\n",
              "            '<a target=\"_blank\" href=https://colab.research.google.com/notebooks/data_table.ipynb>data table notebook</a>'\n",
              "            + ' to learn more about interactive tables.';\n",
              "          element.innerHTML = '';\n",
              "          dataTable['output_type'] = 'display_data';\n",
              "          await google.colab.output.renderOutput(dataTable, element);\n",
              "          const docLink = document.createElement('div');\n",
              "          docLink.innerHTML = docLinkHtml;\n",
              "          element.appendChild(docLink);\n",
              "        }\n",
              "      </script>\n",
              "    </div>\n",
              "  </div>\n",
              "  "
            ]
          },
          "metadata": {},
          "execution_count": 50
        }
      ]
    },
    {
      "cell_type": "code",
      "source": [
        "#6 Los 5 que más gastan\n",
        "Arreglo=Datos.groupby(\"Usuario\",dropna=False).agg(Recuento_Compras=(\"Usuario\",\"count\"),Precio_Medio=(\"Precio\",\"mean\"),Valor_Total=(\"Precio\",\"sum\"))## Filtro por usuarios la suma, elrecuento y el promedio\n",
        "Des=Arreglo.sort_values(\"Valor_Total\",ascending=False)#Arreglode forma descendente\n",
        "Gastones=Des.head(n=5) #Escojo los 5 Primeros\n",
        "Gastones"
      ],
      "metadata": {
        "colab": {
          "base_uri": "https://localhost:8080/",
          "height": 455
        },
        "id": "muO58-wAGWKW",
        "outputId": "91cdd0ca-ff98-4c03-b42a-dd253850764e"
      },
      "execution_count": 88,
      "outputs": [
        {
          "output_type": "execute_result",
          "data": {
            "text/plain": [
              "             Recuento_Compras  Precio_Medio  Valor_Total\n",
              "Usuario                                                 \n",
              "Lisosia93                   5      3.792000        18.96\n",
              "Idastidru52                 4      3.862500        15.45\n",
              "Chamjask73                  3      4.610000        13.83\n",
              "Iral74                      4      3.405000        13.62\n",
              "Iskadarya95                 3      4.366667        13.10\n",
              "...                       ...           ...          ...\n",
              "Ililsasya43                 1      1.020000         1.02\n",
              "Irilis75                    1      1.020000         1.02\n",
              "Aidai61                     1      1.010000         1.01\n",
              "Chanirra79                  1      1.010000         1.01\n",
              "Alo38                       1      1.000000         1.00\n",
              "\n",
              "[576 rows x 3 columns]"
            ],
            "text/html": [
              "\n",
              "  <div id=\"df-7dce2183-3192-4130-b358-dbaa57a50886\">\n",
              "    <div class=\"colab-df-container\">\n",
              "      <div>\n",
              "<style scoped>\n",
              "    .dataframe tbody tr th:only-of-type {\n",
              "        vertical-align: middle;\n",
              "    }\n",
              "\n",
              "    .dataframe tbody tr th {\n",
              "        vertical-align: top;\n",
              "    }\n",
              "\n",
              "    .dataframe thead th {\n",
              "        text-align: right;\n",
              "    }\n",
              "</style>\n",
              "<table border=\"1\" class=\"dataframe\">\n",
              "  <thead>\n",
              "    <tr style=\"text-align: right;\">\n",
              "      <th></th>\n",
              "      <th>Recuento_Compras</th>\n",
              "      <th>Precio_Medio</th>\n",
              "      <th>Valor_Total</th>\n",
              "    </tr>\n",
              "    <tr>\n",
              "      <th>Usuario</th>\n",
              "      <th></th>\n",
              "      <th></th>\n",
              "      <th></th>\n",
              "    </tr>\n",
              "  </thead>\n",
              "  <tbody>\n",
              "    <tr>\n",
              "      <th>Lisosia93</th>\n",
              "      <td>5</td>\n",
              "      <td>3.792000</td>\n",
              "      <td>18.96</td>\n",
              "    </tr>\n",
              "    <tr>\n",
              "      <th>Idastidru52</th>\n",
              "      <td>4</td>\n",
              "      <td>3.862500</td>\n",
              "      <td>15.45</td>\n",
              "    </tr>\n",
              "    <tr>\n",
              "      <th>Chamjask73</th>\n",
              "      <td>3</td>\n",
              "      <td>4.610000</td>\n",
              "      <td>13.83</td>\n",
              "    </tr>\n",
              "    <tr>\n",
              "      <th>Iral74</th>\n",
              "      <td>4</td>\n",
              "      <td>3.405000</td>\n",
              "      <td>13.62</td>\n",
              "    </tr>\n",
              "    <tr>\n",
              "      <th>Iskadarya95</th>\n",
              "      <td>3</td>\n",
              "      <td>4.366667</td>\n",
              "      <td>13.10</td>\n",
              "    </tr>\n",
              "    <tr>\n",
              "      <th>...</th>\n",
              "      <td>...</td>\n",
              "      <td>...</td>\n",
              "      <td>...</td>\n",
              "    </tr>\n",
              "    <tr>\n",
              "      <th>Ililsasya43</th>\n",
              "      <td>1</td>\n",
              "      <td>1.020000</td>\n",
              "      <td>1.02</td>\n",
              "    </tr>\n",
              "    <tr>\n",
              "      <th>Irilis75</th>\n",
              "      <td>1</td>\n",
              "      <td>1.020000</td>\n",
              "      <td>1.02</td>\n",
              "    </tr>\n",
              "    <tr>\n",
              "      <th>Aidai61</th>\n",
              "      <td>1</td>\n",
              "      <td>1.010000</td>\n",
              "      <td>1.01</td>\n",
              "    </tr>\n",
              "    <tr>\n",
              "      <th>Chanirra79</th>\n",
              "      <td>1</td>\n",
              "      <td>1.010000</td>\n",
              "      <td>1.01</td>\n",
              "    </tr>\n",
              "    <tr>\n",
              "      <th>Alo38</th>\n",
              "      <td>1</td>\n",
              "      <td>1.000000</td>\n",
              "      <td>1.00</td>\n",
              "    </tr>\n",
              "  </tbody>\n",
              "</table>\n",
              "<p>576 rows × 3 columns</p>\n",
              "</div>\n",
              "      <button class=\"colab-df-convert\" onclick=\"convertToInteractive('df-7dce2183-3192-4130-b358-dbaa57a50886')\"\n",
              "              title=\"Convert this dataframe to an interactive table.\"\n",
              "              style=\"display:none;\">\n",
              "        \n",
              "  <svg xmlns=\"http://www.w3.org/2000/svg\" height=\"24px\"viewBox=\"0 0 24 24\"\n",
              "       width=\"24px\">\n",
              "    <path d=\"M0 0h24v24H0V0z\" fill=\"none\"/>\n",
              "    <path d=\"M18.56 5.44l.94 2.06.94-2.06 2.06-.94-2.06-.94-.94-2.06-.94 2.06-2.06.94zm-11 1L8.5 8.5l.94-2.06 2.06-.94-2.06-.94L8.5 2.5l-.94 2.06-2.06.94zm10 10l.94 2.06.94-2.06 2.06-.94-2.06-.94-.94-2.06-.94 2.06-2.06.94z\"/><path d=\"M17.41 7.96l-1.37-1.37c-.4-.4-.92-.59-1.43-.59-.52 0-1.04.2-1.43.59L10.3 9.45l-7.72 7.72c-.78.78-.78 2.05 0 2.83L4 21.41c.39.39.9.59 1.41.59.51 0 1.02-.2 1.41-.59l7.78-7.78 2.81-2.81c.8-.78.8-2.07 0-2.86zM5.41 20L4 18.59l7.72-7.72 1.47 1.35L5.41 20z\"/>\n",
              "  </svg>\n",
              "      </button>\n",
              "      \n",
              "  <style>\n",
              "    .colab-df-container {\n",
              "      display:flex;\n",
              "      flex-wrap:wrap;\n",
              "      gap: 12px;\n",
              "    }\n",
              "\n",
              "    .colab-df-convert {\n",
              "      background-color: #E8F0FE;\n",
              "      border: none;\n",
              "      border-radius: 50%;\n",
              "      cursor: pointer;\n",
              "      display: none;\n",
              "      fill: #1967D2;\n",
              "      height: 32px;\n",
              "      padding: 0 0 0 0;\n",
              "      width: 32px;\n",
              "    }\n",
              "\n",
              "    .colab-df-convert:hover {\n",
              "      background-color: #E2EBFA;\n",
              "      box-shadow: 0px 1px 2px rgba(60, 64, 67, 0.3), 0px 1px 3px 1px rgba(60, 64, 67, 0.15);\n",
              "      fill: #174EA6;\n",
              "    }\n",
              "\n",
              "    [theme=dark] .colab-df-convert {\n",
              "      background-color: #3B4455;\n",
              "      fill: #D2E3FC;\n",
              "    }\n",
              "\n",
              "    [theme=dark] .colab-df-convert:hover {\n",
              "      background-color: #434B5C;\n",
              "      box-shadow: 0px 1px 3px 1px rgba(0, 0, 0, 0.15);\n",
              "      filter: drop-shadow(0px 1px 2px rgba(0, 0, 0, 0.3));\n",
              "      fill: #FFFFFF;\n",
              "    }\n",
              "  </style>\n",
              "\n",
              "      <script>\n",
              "        const buttonEl =\n",
              "          document.querySelector('#df-7dce2183-3192-4130-b358-dbaa57a50886 button.colab-df-convert');\n",
              "        buttonEl.style.display =\n",
              "          google.colab.kernel.accessAllowed ? 'block' : 'none';\n",
              "\n",
              "        async function convertToInteractive(key) {\n",
              "          const element = document.querySelector('#df-7dce2183-3192-4130-b358-dbaa57a50886');\n",
              "          const dataTable =\n",
              "            await google.colab.kernel.invokeFunction('convertToInteractive',\n",
              "                                                     [key], {});\n",
              "          if (!dataTable) return;\n",
              "\n",
              "          const docLinkHtml = 'Like what you see? Visit the ' +\n",
              "            '<a target=\"_blank\" href=https://colab.research.google.com/notebooks/data_table.ipynb>data table notebook</a>'\n",
              "            + ' to learn more about interactive tables.';\n",
              "          element.innerHTML = '';\n",
              "          dataTable['output_type'] = 'display_data';\n",
              "          await google.colab.output.renderOutput(dataTable, element);\n",
              "          const docLink = document.createElement('div');\n",
              "          docLink.innerHTML = docLinkHtml;\n",
              "          element.appendChild(docLink);\n",
              "        }\n",
              "      </script>\n",
              "    </div>\n",
              "  </div>\n",
              "  "
            ]
          },
          "metadata": {},
          "execution_count": 88
        }
      ]
    },
    {
      "cell_type": "code",
      "source": [
        "#7 Los 5 Articulos populares\n",
        "\n",
        "Arreglo2=Datos.groupby(\"ID\",dropna=False).agg(Nombre_Articulo=(\"NombreArticulo\",\"unique\"),Numero_Compras=(\"ID\",\"count\"),Precio=(\"Precio\",\"unique\"),Valor_Total=(\"Precio\",\"sum\"))## Filtro por ID del articulo \n",
        "Des2=Arreglo2.sort_values(\"Numero_Compras\",ascending=False)#Arreglode forma descendente\n",
        "Populares=Des2.head(n=5) #Escojo los 5 Primeros\n",
        "Populares"
      ],
      "metadata": {
        "colab": {
          "base_uri": "https://localhost:8080/",
          "height": 237
        },
        "id": "hqJca2D0NKHW",
        "outputId": "27b4c82e-aa2a-457a-cc41-3eed16576741"
      },
      "execution_count": 99,
      "outputs": [
        {
          "output_type": "execute_result",
          "data": {
            "text/plain": [
              "                                      Nombre_Articulo  Numero_Compras  Precio  \\\n",
              "ID                                                                              \n",
              "178.0  [Oathbreaker, Last Hope of the Breaking Storm]              12  [4.23]   \n",
              "145.0                          [Fiery Glass Crusader]               9  [4.58]   \n",
              "108.0     [Extraction, Quickblade Of Trembling Hands]               9  [3.53]   \n",
              "82.0                                        [Nirvana]               9   [4.9]   \n",
              "19.0                  [Pursuit, Cudgel of Necromancy]               8  [1.02]   \n",
              "\n",
              "       Valor_Total  \n",
              "ID                  \n",
              "178.0        50.76  \n",
              "145.0        41.22  \n",
              "108.0        31.77  \n",
              "82.0         44.10  \n",
              "19.0          8.16  "
            ],
            "text/html": [
              "\n",
              "  <div id=\"df-9051b243-6d11-4a2b-9177-b5d65f0e5d38\">\n",
              "    <div class=\"colab-df-container\">\n",
              "      <div>\n",
              "<style scoped>\n",
              "    .dataframe tbody tr th:only-of-type {\n",
              "        vertical-align: middle;\n",
              "    }\n",
              "\n",
              "    .dataframe tbody tr th {\n",
              "        vertical-align: top;\n",
              "    }\n",
              "\n",
              "    .dataframe thead th {\n",
              "        text-align: right;\n",
              "    }\n",
              "</style>\n",
              "<table border=\"1\" class=\"dataframe\">\n",
              "  <thead>\n",
              "    <tr style=\"text-align: right;\">\n",
              "      <th></th>\n",
              "      <th>Nombre_Articulo</th>\n",
              "      <th>Numero_Compras</th>\n",
              "      <th>Precio</th>\n",
              "      <th>Valor_Total</th>\n",
              "    </tr>\n",
              "    <tr>\n",
              "      <th>ID</th>\n",
              "      <th></th>\n",
              "      <th></th>\n",
              "      <th></th>\n",
              "      <th></th>\n",
              "    </tr>\n",
              "  </thead>\n",
              "  <tbody>\n",
              "    <tr>\n",
              "      <th>178.0</th>\n",
              "      <td>[Oathbreaker, Last Hope of the Breaking Storm]</td>\n",
              "      <td>12</td>\n",
              "      <td>[4.23]</td>\n",
              "      <td>50.76</td>\n",
              "    </tr>\n",
              "    <tr>\n",
              "      <th>145.0</th>\n",
              "      <td>[Fiery Glass Crusader]</td>\n",
              "      <td>9</td>\n",
              "      <td>[4.58]</td>\n",
              "      <td>41.22</td>\n",
              "    </tr>\n",
              "    <tr>\n",
              "      <th>108.0</th>\n",
              "      <td>[Extraction, Quickblade Of Trembling Hands]</td>\n",
              "      <td>9</td>\n",
              "      <td>[3.53]</td>\n",
              "      <td>31.77</td>\n",
              "    </tr>\n",
              "    <tr>\n",
              "      <th>82.0</th>\n",
              "      <td>[Nirvana]</td>\n",
              "      <td>9</td>\n",
              "      <td>[4.9]</td>\n",
              "      <td>44.10</td>\n",
              "    </tr>\n",
              "    <tr>\n",
              "      <th>19.0</th>\n",
              "      <td>[Pursuit, Cudgel of Necromancy]</td>\n",
              "      <td>8</td>\n",
              "      <td>[1.02]</td>\n",
              "      <td>8.16</td>\n",
              "    </tr>\n",
              "  </tbody>\n",
              "</table>\n",
              "</div>\n",
              "      <button class=\"colab-df-convert\" onclick=\"convertToInteractive('df-9051b243-6d11-4a2b-9177-b5d65f0e5d38')\"\n",
              "              title=\"Convert this dataframe to an interactive table.\"\n",
              "              style=\"display:none;\">\n",
              "        \n",
              "  <svg xmlns=\"http://www.w3.org/2000/svg\" height=\"24px\"viewBox=\"0 0 24 24\"\n",
              "       width=\"24px\">\n",
              "    <path d=\"M0 0h24v24H0V0z\" fill=\"none\"/>\n",
              "    <path d=\"M18.56 5.44l.94 2.06.94-2.06 2.06-.94-2.06-.94-.94-2.06-.94 2.06-2.06.94zm-11 1L8.5 8.5l.94-2.06 2.06-.94-2.06-.94L8.5 2.5l-.94 2.06-2.06.94zm10 10l.94 2.06.94-2.06 2.06-.94-2.06-.94-.94-2.06-.94 2.06-2.06.94z\"/><path d=\"M17.41 7.96l-1.37-1.37c-.4-.4-.92-.59-1.43-.59-.52 0-1.04.2-1.43.59L10.3 9.45l-7.72 7.72c-.78.78-.78 2.05 0 2.83L4 21.41c.39.39.9.59 1.41.59.51 0 1.02-.2 1.41-.59l7.78-7.78 2.81-2.81c.8-.78.8-2.07 0-2.86zM5.41 20L4 18.59l7.72-7.72 1.47 1.35L5.41 20z\"/>\n",
              "  </svg>\n",
              "      </button>\n",
              "      \n",
              "  <style>\n",
              "    .colab-df-container {\n",
              "      display:flex;\n",
              "      flex-wrap:wrap;\n",
              "      gap: 12px;\n",
              "    }\n",
              "\n",
              "    .colab-df-convert {\n",
              "      background-color: #E8F0FE;\n",
              "      border: none;\n",
              "      border-radius: 50%;\n",
              "      cursor: pointer;\n",
              "      display: none;\n",
              "      fill: #1967D2;\n",
              "      height: 32px;\n",
              "      padding: 0 0 0 0;\n",
              "      width: 32px;\n",
              "    }\n",
              "\n",
              "    .colab-df-convert:hover {\n",
              "      background-color: #E2EBFA;\n",
              "      box-shadow: 0px 1px 2px rgba(60, 64, 67, 0.3), 0px 1px 3px 1px rgba(60, 64, 67, 0.15);\n",
              "      fill: #174EA6;\n",
              "    }\n",
              "\n",
              "    [theme=dark] .colab-df-convert {\n",
              "      background-color: #3B4455;\n",
              "      fill: #D2E3FC;\n",
              "    }\n",
              "\n",
              "    [theme=dark] .colab-df-convert:hover {\n",
              "      background-color: #434B5C;\n",
              "      box-shadow: 0px 1px 3px 1px rgba(0, 0, 0, 0.15);\n",
              "      filter: drop-shadow(0px 1px 2px rgba(0, 0, 0, 0.3));\n",
              "      fill: #FFFFFF;\n",
              "    }\n",
              "  </style>\n",
              "\n",
              "      <script>\n",
              "        const buttonEl =\n",
              "          document.querySelector('#df-9051b243-6d11-4a2b-9177-b5d65f0e5d38 button.colab-df-convert');\n",
              "        buttonEl.style.display =\n",
              "          google.colab.kernel.accessAllowed ? 'block' : 'none';\n",
              "\n",
              "        async function convertToInteractive(key) {\n",
              "          const element = document.querySelector('#df-9051b243-6d11-4a2b-9177-b5d65f0e5d38');\n",
              "          const dataTable =\n",
              "            await google.colab.kernel.invokeFunction('convertToInteractive',\n",
              "                                                     [key], {});\n",
              "          if (!dataTable) return;\n",
              "\n",
              "          const docLinkHtml = 'Like what you see? Visit the ' +\n",
              "            '<a target=\"_blank\" href=https://colab.research.google.com/notebooks/data_table.ipynb>data table notebook</a>'\n",
              "            + ' to learn more about interactive tables.';\n",
              "          element.innerHTML = '';\n",
              "          dataTable['output_type'] = 'display_data';\n",
              "          await google.colab.output.renderOutput(dataTable, element);\n",
              "          const docLink = document.createElement('div');\n",
              "          docLink.innerHTML = docLinkHtml;\n",
              "          element.appendChild(docLink);\n",
              "        }\n",
              "      </script>\n",
              "    </div>\n",
              "  </div>\n",
              "  "
            ]
          },
          "metadata": {},
          "execution_count": 99
        }
      ]
    },
    {
      "cell_type": "code",
      "source": [
        "#8 Los 5 Articulos rentables\n",
        "\n",
        "Des3=Arreglo2.sort_values(\"Valor_Total\",ascending=False)#Arreglode forma descendente\n",
        "Rentables=Des3.head(n=5) #Escojo los 5 Primeros\n",
        "Rentables"
      ],
      "metadata": {
        "colab": {
          "base_uri": "https://localhost:8080/",
          "height": 237
        },
        "id": "xJB74tJ-WU4A",
        "outputId": "681b5022-3657-4b50-a97f-8e95dbda6d9d"
      },
      "execution_count": 100,
      "outputs": [
        {
          "output_type": "execute_result",
          "data": {
            "text/plain": [
              "                                      Nombre_Articulo  Numero_Compras  Precio  \\\n",
              "ID                                                                              \n",
              "178.0  [Oathbreaker, Last Hope of the Breaking Storm]              12  [4.23]   \n",
              "82.0                                        [Nirvana]               9   [4.9]   \n",
              "145.0                          [Fiery Glass Crusader]               9  [4.58]   \n",
              "92.0                                   [Final Critic]               8  [4.88]   \n",
              "103.0                                [Singed Scalpel]               8  [4.35]   \n",
              "\n",
              "       Valor_Total  \n",
              "ID                  \n",
              "178.0        50.76  \n",
              "82.0         44.10  \n",
              "145.0        41.22  \n",
              "92.0         39.04  \n",
              "103.0        34.80  "
            ],
            "text/html": [
              "\n",
              "  <div id=\"df-6bc09e4b-5929-4385-ab1e-06cc5293edb1\">\n",
              "    <div class=\"colab-df-container\">\n",
              "      <div>\n",
              "<style scoped>\n",
              "    .dataframe tbody tr th:only-of-type {\n",
              "        vertical-align: middle;\n",
              "    }\n",
              "\n",
              "    .dataframe tbody tr th {\n",
              "        vertical-align: top;\n",
              "    }\n",
              "\n",
              "    .dataframe thead th {\n",
              "        text-align: right;\n",
              "    }\n",
              "</style>\n",
              "<table border=\"1\" class=\"dataframe\">\n",
              "  <thead>\n",
              "    <tr style=\"text-align: right;\">\n",
              "      <th></th>\n",
              "      <th>Nombre_Articulo</th>\n",
              "      <th>Numero_Compras</th>\n",
              "      <th>Precio</th>\n",
              "      <th>Valor_Total</th>\n",
              "    </tr>\n",
              "    <tr>\n",
              "      <th>ID</th>\n",
              "      <th></th>\n",
              "      <th></th>\n",
              "      <th></th>\n",
              "      <th></th>\n",
              "    </tr>\n",
              "  </thead>\n",
              "  <tbody>\n",
              "    <tr>\n",
              "      <th>178.0</th>\n",
              "      <td>[Oathbreaker, Last Hope of the Breaking Storm]</td>\n",
              "      <td>12</td>\n",
              "      <td>[4.23]</td>\n",
              "      <td>50.76</td>\n",
              "    </tr>\n",
              "    <tr>\n",
              "      <th>82.0</th>\n",
              "      <td>[Nirvana]</td>\n",
              "      <td>9</td>\n",
              "      <td>[4.9]</td>\n",
              "      <td>44.10</td>\n",
              "    </tr>\n",
              "    <tr>\n",
              "      <th>145.0</th>\n",
              "      <td>[Fiery Glass Crusader]</td>\n",
              "      <td>9</td>\n",
              "      <td>[4.58]</td>\n",
              "      <td>41.22</td>\n",
              "    </tr>\n",
              "    <tr>\n",
              "      <th>92.0</th>\n",
              "      <td>[Final Critic]</td>\n",
              "      <td>8</td>\n",
              "      <td>[4.88]</td>\n",
              "      <td>39.04</td>\n",
              "    </tr>\n",
              "    <tr>\n",
              "      <th>103.0</th>\n",
              "      <td>[Singed Scalpel]</td>\n",
              "      <td>8</td>\n",
              "      <td>[4.35]</td>\n",
              "      <td>34.80</td>\n",
              "    </tr>\n",
              "  </tbody>\n",
              "</table>\n",
              "</div>\n",
              "      <button class=\"colab-df-convert\" onclick=\"convertToInteractive('df-6bc09e4b-5929-4385-ab1e-06cc5293edb1')\"\n",
              "              title=\"Convert this dataframe to an interactive table.\"\n",
              "              style=\"display:none;\">\n",
              "        \n",
              "  <svg xmlns=\"http://www.w3.org/2000/svg\" height=\"24px\"viewBox=\"0 0 24 24\"\n",
              "       width=\"24px\">\n",
              "    <path d=\"M0 0h24v24H0V0z\" fill=\"none\"/>\n",
              "    <path d=\"M18.56 5.44l.94 2.06.94-2.06 2.06-.94-2.06-.94-.94-2.06-.94 2.06-2.06.94zm-11 1L8.5 8.5l.94-2.06 2.06-.94-2.06-.94L8.5 2.5l-.94 2.06-2.06.94zm10 10l.94 2.06.94-2.06 2.06-.94-2.06-.94-.94-2.06-.94 2.06-2.06.94z\"/><path d=\"M17.41 7.96l-1.37-1.37c-.4-.4-.92-.59-1.43-.59-.52 0-1.04.2-1.43.59L10.3 9.45l-7.72 7.72c-.78.78-.78 2.05 0 2.83L4 21.41c.39.39.9.59 1.41.59.51 0 1.02-.2 1.41-.59l7.78-7.78 2.81-2.81c.8-.78.8-2.07 0-2.86zM5.41 20L4 18.59l7.72-7.72 1.47 1.35L5.41 20z\"/>\n",
              "  </svg>\n",
              "      </button>\n",
              "      \n",
              "  <style>\n",
              "    .colab-df-container {\n",
              "      display:flex;\n",
              "      flex-wrap:wrap;\n",
              "      gap: 12px;\n",
              "    }\n",
              "\n",
              "    .colab-df-convert {\n",
              "      background-color: #E8F0FE;\n",
              "      border: none;\n",
              "      border-radius: 50%;\n",
              "      cursor: pointer;\n",
              "      display: none;\n",
              "      fill: #1967D2;\n",
              "      height: 32px;\n",
              "      padding: 0 0 0 0;\n",
              "      width: 32px;\n",
              "    }\n",
              "\n",
              "    .colab-df-convert:hover {\n",
              "      background-color: #E2EBFA;\n",
              "      box-shadow: 0px 1px 2px rgba(60, 64, 67, 0.3), 0px 1px 3px 1px rgba(60, 64, 67, 0.15);\n",
              "      fill: #174EA6;\n",
              "    }\n",
              "\n",
              "    [theme=dark] .colab-df-convert {\n",
              "      background-color: #3B4455;\n",
              "      fill: #D2E3FC;\n",
              "    }\n",
              "\n",
              "    [theme=dark] .colab-df-convert:hover {\n",
              "      background-color: #434B5C;\n",
              "      box-shadow: 0px 1px 3px 1px rgba(0, 0, 0, 0.15);\n",
              "      filter: drop-shadow(0px 1px 2px rgba(0, 0, 0, 0.3));\n",
              "      fill: #FFFFFF;\n",
              "    }\n",
              "  </style>\n",
              "\n",
              "      <script>\n",
              "        const buttonEl =\n",
              "          document.querySelector('#df-6bc09e4b-5929-4385-ab1e-06cc5293edb1 button.colab-df-convert');\n",
              "        buttonEl.style.display =\n",
              "          google.colab.kernel.accessAllowed ? 'block' : 'none';\n",
              "\n",
              "        async function convertToInteractive(key) {\n",
              "          const element = document.querySelector('#df-6bc09e4b-5929-4385-ab1e-06cc5293edb1');\n",
              "          const dataTable =\n",
              "            await google.colab.kernel.invokeFunction('convertToInteractive',\n",
              "                                                     [key], {});\n",
              "          if (!dataTable) return;\n",
              "\n",
              "          const docLinkHtml = 'Like what you see? Visit the ' +\n",
              "            '<a target=\"_blank\" href=https://colab.research.google.com/notebooks/data_table.ipynb>data table notebook</a>'\n",
              "            + ' to learn more about interactive tables.';\n",
              "          element.innerHTML = '';\n",
              "          dataTable['output_type'] = 'display_data';\n",
              "          await google.colab.output.renderOutput(dataTable, element);\n",
              "          const docLink = document.createElement('div');\n",
              "          docLink.innerHTML = docLinkHtml;\n",
              "          element.appendChild(docLink);\n",
              "        }\n",
              "      </script>\n",
              "    </div>\n",
              "  </div>\n",
              "  "
            ]
          },
          "metadata": {},
          "execution_count": 100
        }
      ]
    },
    {
      "cell_type": "code",
      "source": [
        ""
      ],
      "metadata": {
        "id": "k8-GmDkWaTjU"
      },
      "execution_count": null,
      "outputs": []
    }
  ]
}